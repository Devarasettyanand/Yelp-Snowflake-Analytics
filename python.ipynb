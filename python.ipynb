{
 "cells": [
  {
   "cell_type": "code",
   "execution_count": 19,
   "id": "030bc22e-7e87-4504-b956-92b17d16074d",
   "metadata": {},
   "outputs": [],
   "source": [
    "import json"
   ]
  },
  {
   "cell_type": "code",
   "execution_count": 21,
   "id": "c313aa27-1a67-4f98-aa69-436a1e695214",
   "metadata": {},
   "outputs": [
    {
     "name": "stdout",
     "output_type": "stream",
     "text": [
      "Current working directory: C:\\Users\\devar\\Documents\\anand python\n"
     ]
    }
   ],
   "source": [
    "import os\n",
    "print(\"Current working directory:\", os.getcwd())\n"
   ]
  },
  {
   "cell_type": "code",
   "execution_count": 22,
   "id": "2590a263-c2cd-4602-b97a-e7e311cb9c9c",
   "metadata": {},
   "outputs": [],
   "source": [
    "input_file = \"yelp_academic_dataset_review.json\"\n"
   ]
  },
  {
   "cell_type": "code",
   "execution_count": 23,
   "id": "7b9f5ffa-867e-4168-9122-4cc4e09305d6",
   "metadata": {},
   "outputs": [
    {
     "name": "stdout",
     "output_type": "stream",
     "text": [
      "Total lines: 6990280, Lines per file: 699028, Remainder: 0\n",
      "✅ Created split_file_1.json with 699028 lines\n",
      "✅ Created split_file_2.json with 699028 lines\n",
      "✅ Created split_file_3.json with 699028 lines\n",
      "✅ Created split_file_4.json with 699028 lines\n",
      "✅ Created split_file_5.json with 699028 lines\n",
      "✅ Created split_file_6.json with 699028 lines\n",
      "✅ Created split_file_7.json with 699028 lines\n",
      "✅ Created split_file_8.json with 699028 lines\n",
      "✅ Created split_file_9.json with 699028 lines\n",
      "✅ Created split_file_10.json with 699028 lines\n",
      "🎉 Splitting complete!\n"
     ]
    }
   ],
   "source": [
    "input_file = \"yelp_academic_dataset_review.json\"  # File is now in working directory\n",
    "output_prefix = \"split_file_\"  # Output files will be created in the same folder\n",
    "num_files = 10\n",
    "\n",
    "# Step 1: Count total lines (objects) in the file\n",
    "with open(input_file, \"r\", encoding=\"utf8\") as f:\n",
    "    total_lines = sum(1 for _ in f)\n",
    "\n",
    "lines_per_file = total_lines // num_files\n",
    "remainder = total_lines % num_files\n",
    "\n",
    "print(f\"Total lines: {total_lines}, Lines per file: {lines_per_file}, Remainder: {remainder}\")\n",
    "\n",
    "# Step 2: Split into smaller parts\n",
    "with open(input_file, \"r\", encoding=\"utf8\") as f:\n",
    "    for i in range(num_files):\n",
    "        output_filename = f\"{output_prefix}{i+1}.json\"\n",
    "        lines_to_write = lines_per_file + (1 if i < remainder else 0)\n",
    "\n",
    "        with open(output_filename, \"w\", encoding=\"utf8\") as out_file:\n",
    "            for _ in range(lines_to_write):\n",
    "                line = f.readline()\n",
    "                if not line:\n",
    "                    break\n",
    "                out_file.write(line)\n",
    "\n",
    "        print(f\"✅ Created {output_filename} with {lines_to_write} lines\")\n",
    "\n",
    "print(\"🎉 Splitting complete!\")\n"
   ]
  },
  {
   "cell_type": "code",
   "execution_count": null,
   "id": "d0b87bd7-a11a-47a9-a87c-62608915d2fb",
   "metadata": {},
   "outputs": [],
   "source": []
  }
 ],
 "metadata": {
  "kernelspec": {
   "display_name": "Python 3 (ipykernel)",
   "language": "python",
   "name": "python3"
  },
  "language_info": {
   "codemirror_mode": {
    "name": "ipython",
    "version": 3
   },
   "file_extension": ".py",
   "mimetype": "text/x-python",
   "name": "python",
   "nbconvert_exporter": "python",
   "pygments_lexer": "ipython3",
   "version": "3.13.5"
  }
 },
 "nbformat": 4,
 "nbformat_minor": 5
}
